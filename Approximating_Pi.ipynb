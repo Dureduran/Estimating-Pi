{
  "nbformat": 4,
  "nbformat_minor": 0,
  "metadata": {
    "colab": {
      "name": "Approximating_Pi.ipynb",
      "provenance": [],
      "collapsed_sections": [],
      "toc_visible": true,
      "authorship_tag": "ABX9TyMRKKI6ZApEH8SyRunCnhCl",
      "include_colab_link": true
    },
    "kernelspec": {
      "name": "python3",
      "display_name": "Python 3"
    },
    "language_info": {
      "name": "python"
    }
  },
  "cells": [
    {
      "cell_type": "markdown",
      "metadata": {
        "id": "view-in-github",
        "colab_type": "text"
      },
      "source": [
        "<a href=\"https://colab.research.google.com/github/Dureduran/DataScience/blob/master/Approximating_Pi.ipynb\" target=\"_parent\"><img src=\"https://colab.research.google.com/assets/colab-badge.svg\" alt=\"Open In Colab\"/></a>"
      ]
    },
    {
      "cell_type": "markdown",
      "metadata": {
        "id": "mca4QjfW9CpO"
      },
      "source": [
        "# Approximating PI"
      ]
    },
    {
      "cell_type": "code",
      "metadata": {
        "id": "6yhlA4C-8nUJ"
      },
      "source": [
        "import random\n",
        "\n",
        "def estimate(n):\n",
        "  num_circle = 0\n",
        "  num_total = 0\n",
        "  for _ in range(n):\n",
        "    x = random.uniform(0,1)\n",
        "    y = random.uniform(0,1)\n",
        "    distance = x**2 + y**2\n",
        "    if distance <= 1:\n",
        "      num_circle +=1\n",
        "    num_total +=1\n",
        "\n",
        "  return 4 * num_circle/num_total"
      ],
      "execution_count": 13,
      "outputs": []
    },
    {
      "cell_type": "markdown",
      "metadata": {
        "id": "wse5X85cAZ6w"
      },
      "source": [
        "**Put integer value 'n' in function estimate(n) below to estimate value of PI**\n",
        "\n",
        "---\n",
        "The higher the integer value of n the closer will be the approximation\n"
      ]
    },
    {
      "cell_type": "code",
      "metadata": {
        "colab": {
          "base_uri": "https://localhost:8080/"
        },
        "id": "G4q3WAxA_Ss2",
        "outputId": "d67df24e-ba68-4ad6-f91e-2099596cd542"
      },
      "source": [
        "estimate(1000000)"
      ],
      "execution_count": 16,
      "outputs": [
        {
          "output_type": "execute_result",
          "data": {
            "text/plain": [
              "3.141996"
            ]
          },
          "metadata": {
            "tags": []
          },
          "execution_count": 16
        }
      ]
    }
  ]
}